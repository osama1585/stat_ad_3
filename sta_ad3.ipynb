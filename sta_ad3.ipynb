{
 "cells": [
  {
   "cell_type": "markdown",
   "id": "7419e7dc-3e29-49e7-a115-34165891edb6",
   "metadata": {},
   "source": [
    "<span style=color:red;font-size:50px>ASSIGNMENT</span>"
   ]
  },
  {
   "cell_type": "markdown",
   "id": "5d988fdc-7044-4535-aa6a-cbd60d15f8d2",
   "metadata": {},
   "source": [
    "<span style=color:blue;font-size:46px>STATISTICS ADVANCE-3</span>"
   ]
  },
  {
   "cell_type": "markdown",
   "id": "3b846cb7-aabb-4efc-b061-0220cdec6815",
   "metadata": {},
   "source": [
    "<span style=color:green>Q1: What is Estimation Statistics? Explain point estimate and interval estimate</span>"
   ]
  },
  {
   "cell_type": "markdown",
   "id": "f946b6e2-22d1-4fdb-8962-7c34c773add9",
   "metadata": {},
   "source": [
    "Ans-"
   ]
  },
  {
   "cell_type": "markdown",
   "id": "7f9f9ef7-1dfe-40df-91c2-dcb41a4d1be9",
   "metadata": {},
   "source": [
    "### Estimation Statistics\n",
    "\n",
    "Estimation statistics involves the use of sample data to estimate unknown population parameters. There are two main types of estimates: point estimates and interval estimates.\n",
    "\n",
    "#### Point Estimate:\n",
    "\n",
    "A point estimate is a single value that is used to approximate an unknown population parameter. It's a specific numerical value calculated from the sample data. For example, if you want to estimate the average height of a population based on a sample, the sample mean would be a point estimate for the population mean.\n",
    "\n",
    "#### Interval Estimate:\n",
    "\n",
    "An interval estimate provides a range within which the true population parameter is likely to fall. It recognizes the uncertainty associated with estimating a parameter based on a sample. Confidence intervals are a common form of interval estimate. A confidence interval includes both a point estimate and a margin of error, creating a range of values within which the true parameter is likely to lie with a certain level of confidence. For instance, a 95% confidence interval for the average height of a population might be [65 inches, 70 inches], indicating that we are 95% confident that the true population mean falls within this interval.\n",
    "\n",
    "In summary, while a point estimate gives a single best guess for the parameter, an interval estimate provides a range of values that is believed to contain the true parameter. The choice between the two depends on the level of precision and confidence required in the estimation process.\n"
   ]
  },
  {
   "cell_type": "markdown",
   "id": "f9de2008-5584-424c-beb7-2d689fbbedf1",
   "metadata": {},
   "source": [
    "<span style=color:green>Q2. Write a Python function to estimate the population mean using a sample mean and standard\n",
    "deviation.</span>"
   ]
  },
  {
   "cell_type": "markdown",
   "id": "5fce113a-645e-43e8-927f-4ea5b79ffb5e",
   "metadata": {},
   "source": [
    "Ans-"
   ]
  },
  {
   "cell_type": "code",
   "execution_count": 4,
   "id": "1d5e6c4d-0a40-4fdb-820a-a9a8e993b6b0",
   "metadata": {},
   "outputs": [
    {
     "name": "stdout",
     "output_type": "stream",
     "text": [
      "Estimated Population Mean: 60.0\n",
      "95% Confidence Interval: (52.524853300314554, 67.47514669968544)\n"
     ]
    }
   ],
   "source": [
    "def estimate_population_mean(sample_mean, sample_size, sample_std):\n",
    "    \"\"\"\n",
    "    Estimate the population mean using a sample mean, sample size, and sample standard deviation.\n",
    "\n",
    "    Parameters:\n",
    "    - sample_mean (float): The mean of the sample.\n",
    "    - sample_size (int): The size of the sample.\n",
    "    - sample_std (float): The standard deviation of the sample.\n",
    "\n",
    "    Returns:\n",
    "    - float: Estimated population mean.\n",
    "    \"\"\"\n",
    "    # Calculate the standard error of the mean\n",
    "    standard_error = sample_std / (sample_size ** 0.5)\n",
    "\n",
    "    # Calculate the margin of error (assuming a certain level of confidence, e.g., 95%)\n",
    "    # You can customize the confidence level if needed\n",
    "    confidence_level = 1.96  # for a 95% confidence interval\n",
    "    margin_of_error = confidence_level * standard_error\n",
    "\n",
    "    # Calculate the lower and upper bounds of the confidence interval\n",
    "    lower_bound = sample_mean - margin_of_error\n",
    "    upper_bound = sample_mean + margin_of_error\n",
    "\n",
    "    # Return the estimated population mean and the confidence interval\n",
    "    return {\n",
    "        \"estimated_mean\": sample_mean,\n",
    "        \"confidence_interval\": (lower_bound, upper_bound)\n",
    "    }\n",
    "\n",
    "# Example usage:\n",
    "sample_mean = 60.0\n",
    "sample_size = 110\n",
    "sample_std = 40.0\n",
    "\n",
    "result = estimate_population_mean(sample_mean, sample_size, sample_std)\n",
    "print(f\"Estimated Population Mean: {result['estimated_mean']}\")\n",
    "print(f\"95% Confidence Interval: {result['confidence_interval']}\")\n"
   ]
  },
  {
   "cell_type": "markdown",
   "id": "6630af1f-23c6-4a1e-826c-afd5c2e335b8",
   "metadata": {},
   "source": [
    "<span style=color:green>Q3: What is Hypothesis testing? Why is it used? State the importance of Hypothesis testing.</span>"
   ]
  },
  {
   "cell_type": "markdown",
   "id": "b86c118b-9658-4b27-b4c4-449430f8c051",
   "metadata": {},
   "source": [
    "Ans-"
   ]
  },
  {
   "cell_type": "markdown",
   "id": "ec1971b2-0fab-44b6-9aaf-a41e70daa323",
   "metadata": {},
   "source": [
    "### Hypothesis Testing\n",
    "\n",
    "**Definition:**\n",
    "Hypothesis testing is a statistical method used to make inferences about population parameters based on a sample of data. It involves the formulation of two competing hypotheses: a null hypothesis (H0) and an alternative hypothesis (H1). The goal is to assess the evidence provided by the sample data to either reject the null hypothesis in favor of the alternative hypothesis or fail to reject the null hypothesis.\n",
    "\n",
    "**Components of Hypothesis Testing:**\n",
    "1. **Null Hypothesis (H0):** A statement that there is no significant difference or effect.\n",
    "2. **Alternative Hypothesis (H1):** A statement that contradicts the null hypothesis, suggesting a significant difference or effect.\n",
    "3. **Significance Level (α):** The predetermined level of significance that represents the probability of rejecting the null hypothesis when it is true.\n",
    "4. **Test Statistic:** A calculated value from the sample data used to make a decision about the null hypothesis.\n",
    "5. **P-value:** The probability of observing a test statistic as extreme as, or more extreme than, the one calculated from the sample data, assuming the null hypothesis is true.\n",
    "\n",
    "**Importance of Hypothesis Testing:**\n",
    "\n",
    "1. **Inference:** Hypothesis testing allows researchers to draw conclusions about population parameters based on a sample. It provides a structured approach to inferential statistics.\n",
    "\n",
    "2. **Decision-Making:** Hypothesis testing provides a systematic method for decision-making in various fields, including science, business, medicine, and social sciences. Decisions are made based on statistical evidence rather than intuition.\n",
    "\n",
    "3. **Scientific Research:** Hypothesis testing is fundamental to scientific research. It helps researchers determine whether their findings are statistically significant and whether they can reject the null hypothesis in favor of a new theory.\n",
    "\n",
    "4. **Quality Control:** In industries, hypothesis testing is used to ensure the quality and consistency of products or processes. For example, it may be employed to test whether a manufacturing process is meeting certain specifications.\n",
    "\n",
    "5. **Policy and Strategy Development:** Decision-makers in various fields use hypothesis testing to evaluate the effectiveness of policies, strategies, or interventions. It provides a basis for evidence-based decision-making.\n",
    "\n",
    "6. **Risk Management:** Hypothesis testing helps assess risks and uncertainties by providing a statistical framework for evaluating the likelihood of specific outcomes.\n",
    "\n",
    "In summary, hypothesis testing is a crucial statistical tool that provides a systematic and objective approach to drawing conclusions from sample data, making informed decisions, and advancing scientific knowledge in various domains.\n"
   ]
  },
  {
   "cell_type": "markdown",
   "id": "f6b0478b-6eed-4514-9d25-d2f206478afe",
   "metadata": {},
   "source": [
    "<span style=color:green>Q4. Create a hypothesis that states whether the average weight of male college students is greater than\n",
    "the average weight of female college students.\n",
    "\n",
    "</span>"
   ]
  },
  {
   "cell_type": "markdown",
   "id": "03c1a4c8-7c29-48cb-8904-a658f81f09e2",
   "metadata": {},
   "source": [
    "Ans-"
   ]
  },
  {
   "cell_type": "markdown",
   "id": "f0da2314-1059-4da8-a8a7-e0d8053f9589",
   "metadata": {},
   "source": [
    "### Hypothesis for Average Weight Comparison Between Male and Female College Students\n",
    "\n",
    "**Null Hypothesis (H0):**\n",
    "The average weight of male college students is equal to or less than the average weight of female college students.\n",
    "\n",
    "**Alternative Hypothesis (H1):**\n",
    "The average weight of male college students is greater than the average weight of female college students.\n",
    "\n",
    "In symbols:\n",
    "\n",
    "- H0: μ_male ≤ μ_female\n",
    "- H1: μ_male > μ_female\n",
    "\n",
    "Here, μ_male represents the population mean weight of male college students, and μ_female represents the population mean weight of female college students.\n",
    "\n",
    "This hypothesis can be tested using statistical methods and sample data to determine whether there is enough evidence to reject the null hypothesis in favor of the alternative hypothesis, suggesting that, on average, male college students weigh more than female college students.\n"
   ]
  },
  {
   "cell_type": "markdown",
   "id": "351ad62c-7c36-46a8-8550-25e3c2e32adf",
   "metadata": {},
   "source": [
    "<span style=color:green>Q5. Write a Python script to conduct a hypothesis test on the difference between two population means,\n",
    "given a sample from each population.</span>"
   ]
  },
  {
   "cell_type": "markdown",
   "id": "77381510-05fe-40a8-b80c-ac8b23376b44",
   "metadata": {},
   "source": [
    "Ans-"
   ]
  },
  {
   "cell_type": "code",
   "execution_count": 5,
   "id": "5fdde4af-ceac-4822-81eb-46545c0b1b62",
   "metadata": {},
   "outputs": [
    {
     "name": "stdout",
     "output_type": "stream",
     "text": [
      "Two-Sample T-Test Results:\n",
      "T-Statistic: 0.6318768178707783\n",
      "P-Value: 0.5450967193380833\n",
      "Conclusion: Fail to reject the null hypothesis at 0.05 significance level\n"
     ]
    }
   ],
   "source": [
    "import numpy as np\n",
    "from scipy.stats import ttest_ind\n",
    "\n",
    "def conduct_two_sample_t_test(sample1, sample2, alpha=0.05):\n",
    "    \"\"\"\n",
    "    Conducts a two-sample t-test on the difference between two population means.\n",
    "\n",
    "    Parameters:\n",
    "    - sample1 (array-like): Sample data for the first population.\n",
    "    - sample2 (array-like): Sample data for the second population.\n",
    "    - alpha (float): Significance level (default is 0.05).\n",
    "\n",
    "    Returns:\n",
    "    - dict: Test result summary.\n",
    "    \"\"\"\n",
    "    # Perform the t-test for independent samples\n",
    "    t_statistic, p_value = ttest_ind(sample1, sample2)\n",
    "\n",
    "    # Compare p-value to the significance level\n",
    "    if p_value < alpha:\n",
    "        result = \"Reject the null hypothesis\"\n",
    "    else:\n",
    "        result = \"Fail to reject the null hypothesis\"\n",
    "\n",
    "    # Return test results\n",
    "    return {\n",
    "        \"t_statistic\": t_statistic,\n",
    "        \"p_value\": p_value,\n",
    "        \"result\": result\n",
    "    }\n",
    "\n",
    "# Example usage:\n",
    "# Assuming you have two samples, sample1 and sample2\n",
    "# Replace these with your actual data\n",
    "sample1 = np.array([23, 78, 55, 94, 80])\n",
    "sample2 = np.array([32, 78, 40, 55, 76])\n",
    "\n",
    "# Set the significance level (alpha)\n",
    "alpha = 0.05\n",
    "\n",
    "# Conduct the two-sample t-test\n",
    "test_result = conduct_two_sample_t_test(sample1, sample2, alpha)\n",
    "\n",
    "# Display the results\n",
    "print(\"Two-Sample T-Test Results:\")\n",
    "print(f\"T-Statistic: {test_result['t_statistic']}\")\n",
    "print(f\"P-Value: {test_result['p_value']}\")\n",
    "print(f\"Conclusion: {test_result['result']} at {alpha} significance level\")\n"
   ]
  },
  {
   "cell_type": "markdown",
   "id": "19b60e5c-46de-4895-9a6b-dbfd992dad89",
   "metadata": {},
   "source": [
    "<span style=color:green>Q6: What is a null and alternative hypothesis? Give some examples.</span>"
   ]
  },
  {
   "cell_type": "markdown",
   "id": "7b6fd7e0-8777-4257-8abe-51ed820df9a2",
   "metadata": {},
   "source": [
    "Ans-"
   ]
  },
  {
   "cell_type": "markdown",
   "id": "4a2f947f-e0e7-433f-8ed1-dc2a3a1f0a37",
   "metadata": {},
   "source": [
    "### Null and Alternative Hypotheses\n",
    "\n",
    "**Null Hypothesis (H0):**\n",
    "The null hypothesis is a statement that there is no significant difference or effect, or that a parameter is equal to a specific value. It serves as the default assumption or starting point in a hypothesis test. The null hypothesis is typically denoted as H0.\n",
    "\n",
    "**Alternative Hypothesis (H1 or Ha):**\n",
    "The alternative hypothesis is a statement that contradicts the null hypothesis. It suggests the presence of a significant difference, effect, or relationship. The alternative hypothesis is what researchers aim to support or demonstrate through their analysis. The alternative hypothesis is denoted as H1 or Ha.\n",
    "\n",
    "**Examples:**\n",
    "\n",
    "1. **Example for a Mean Comparison:**\n",
    "   - Null Hypothesis (H0): The average height of male and female students is equal.\n",
    "   - Alternative Hypothesis (H1): The average height of male students is different from the average height of female students.\n",
    "\n",
    "2. **Example for a Proportion Comparison:**\n",
    "   - Null Hypothesis (H0): The proportion of customers satisfied with the product is 0.8.\n",
    "   - Alternative Hypothesis (H1): The proportion of customers satisfied with the product is not equal to 0.8.\n",
    "\n",
    "3. **Example for a Correlation Test:**\n",
    "   - Null Hypothesis (H0): There is no correlation between hours of study and exam scores.\n",
    "   - Alternative Hypothesis (H1): There is a significant correlation between hours of study and exam scores.\n",
    "\n",
    "4. **Example for a Difference in Means:**\n",
    "   - Null Hypothesis (H0): The average response time of two different systems is the same.\n",
    "   - Alternative Hypothesis (H1): The average response time of one system is greater than the average response time of the other system.\n",
    "\n",
    "5. **Example for a Difference in Proportions:**\n",
    "   - Null Hypothesis (H0): The proportion of defects in two manufacturing processes is equal.\n",
    "   - Alternative Hypothesis (H1): The proportion of defects in one manufacturing process is greater than the proportion in the other.\n",
    "\n",
    "In each example, the null hypothesis represents a statement of equality or no effect, while the alternative hypothesis suggests a difference, effect, or relationship that the researcher is interested in testing. The goal is to collect and analyze data to determine whether there is enough evidence to reject the null hypothesis in favor of the alternative hypothesis.\n"
   ]
  },
  {
   "cell_type": "markdown",
   "id": "284b655c-0c46-421b-a84b-cf0677ca0a7b",
   "metadata": {},
   "source": [
    "<span style=color:green>Q7: Write down the steps involved in hypothesis testing</span>"
   ]
  },
  {
   "cell_type": "markdown",
   "id": "a4922269-849d-4a98-a78d-19e1f6f49ee9",
   "metadata": {},
   "source": [
    "Ans-"
   ]
  },
  {
   "cell_type": "markdown",
   "id": "b3f2803c-0ce9-46b7-890a-082abd3b8c9b",
   "metadata": {},
   "source": [
    "### Steps Involved in Hypothesis Testing\n",
    "\n",
    "1. **Formulate the Hypotheses:**\n",
    "   - Null Hypothesis (H0): The default assumption that there is no significant difference or effect.\n",
    "   - Alternative Hypothesis (H1): The statement that contradicts the null hypothesis, suggesting a significant difference or effect.\n",
    "\n",
    "2. **Set the Significance Level (α):**\n",
    "   - Choose a significance level (α), typically 0.05, which represents the probability of rejecting the null hypothesis when it is true.\n",
    "\n",
    "3. **Collect and Prepare the Data:**\n",
    "   - Gather data through sampling or experimentation.\n",
    "   - Ensure that the data is representative of the population of interest.\n",
    "\n",
    "4. **Select the Appropriate Test:**\n",
    "   - Choose a statistical test based on the nature of the data and the hypotheses being tested (e.g., t-test, chi-square test, ANOVA).\n",
    "\n",
    "5. **Determine the Test Statistic:**\n",
    "   - Calculate the test statistic based on the sample data.\n",
    "   - The test statistic depends on the chosen statistical test.\n",
    "\n",
    "6. **Calculate the P-value:**\n",
    "   - Determine the probability of obtaining the observed test statistic (or more extreme) under the assumption that the null hypothesis is true.\n",
    "   - The p-value is compared to the significance level.\n",
    "\n",
    "7. **Make a Decision:**\n",
    "   - If the p-value is less than or equal to the significance level (α), reject the null hypothesis.\n",
    "   - If the p-value is greater than the significance level, fail to reject the null hypothesis.\n",
    "\n",
    "8. **Draw a Conclusion:**\n",
    "   - Based on the decision in step 7, draw a conclusion about the null hypothesis.\n",
    "   - If the null hypothesis is rejected, provide evidence in support of the alternative hypothesis.\n",
    "\n",
    "9. **Interpret the Results:**\n",
    "   - Consider the practical significance of the findings.\n",
    "   - Discuss the implications of the results in the context of the research question.\n",
    "\n",
    "10. **Document and Communicate:**\n",
    "   - Clearly document the results, including the test statistic, p-value, and conclusion.\n",
    "   - Communicate the findings in a report or presentation.\n",
    "\n",
    "These steps provide a systematic framework for conducting hypothesis testing. It's important to note that hypothesis testing is a probabilistic approach, and results are subject to uncertainty. The choice of the significance level and the interpretation of the p-value are critical aspects of the process.\n"
   ]
  },
  {
   "cell_type": "markdown",
   "id": "cee13ec8-c626-433f-a6df-bedfb4ac7aae",
   "metadata": {},
   "source": [
    "<span style=color:green>Q8. Define p-value and explain its significance in hypothesis testing</span>"
   ]
  },
  {
   "cell_type": "markdown",
   "id": "110d43f8-7146-428d-ba3c-46f27f3bd419",
   "metadata": {},
   "source": [
    "Ans-"
   ]
  },
  {
   "cell_type": "markdown",
   "id": "957ac530-ef09-425c-b66d-f0971d2217ae",
   "metadata": {},
   "source": [
    "### P-value in Hypothesis Testing\n",
    "\n",
    "**Definition:**\n",
    "The p-value, or probability value, is a measure that helps assess the evidence against a null hypothesis in hypothesis testing. It quantifies the probability of obtaining a test statistic as extreme as, or more extreme than, the one observed in the sample, assuming that the null hypothesis is true.\n",
    "\n",
    "**Significance Level (α):**\n",
    "The p-value is compared to a pre-determined significance level (α), commonly set at 0.05. If the p-value is less than or equal to α, it is considered statistically significant, leading to the rejection of the null hypothesis. Conversely, if the p-value is greater than α, there is insufficient evidence to reject the null hypothesis.\n",
    "\n",
    "**Interpretation:**\n",
    "- Small p-value (typically ≤ α): Indicates strong evidence against the null hypothesis. It suggests that the observed data is unlikely under the assumption that the null hypothesis is true.\n",
    "  \n",
    "- Large p-value (typically > α): Suggests weak evidence against the null hypothesis. It indicates that the observed data is not surprising or unusual under the assumption that the null hypothesis is true.\n",
    "\n",
    "**Significance in Hypothesis Testing:**\n",
    "\n",
    "1. **Decision Rule:**\n",
    "   - If p-value ≤ α: Reject the null hypothesis.\n",
    "   - If p-value > α: Fail to reject the null hypothesis.\n",
    "\n",
    "2. **Strength of Evidence:**\n",
    "   - A smaller p-value provides stronger evidence against the null hypothesis. It suggests that the observed results are unlikely to have occurred by random chance alone.\n",
    "\n",
    "3. **False Positive Rate (Type I Error):**\n",
    "   - The significance level (α) represents the probability of making a Type I error (incorrectly rejecting a true null hypothesis). Choosing a lower α reduces the chance of a Type I error but may increase the chance of a Type II error (incorrectly failing to reject a false null hypothesis).\n",
    "\n",
    "4. **Practical Significance:**\n",
    "   - While statistical significance is crucial, it's also important to consider the practical significance of the findings. A small p-value may not necessarily imply practical importance.\n",
    "\n",
    "5. **Decision-Making:**\n",
    "   - The p-value provides a basis for decision-making in hypothesis testing. Researchers use it to determine whether the observed results are statistically significant and whether they have enough evidence to reject the null hypothesis.\n",
    "\n",
    "In summary, the p-value is a key component in hypothesis testing, serving as a bridge between the observed data and the decision about the null hypothesis. It helps researchers make informed conclusions about the population parameters based on the sample data.\n"
   ]
  },
  {
   "cell_type": "markdown",
   "id": "4da9e48c-9a4d-43e8-9806-c8eff3ec154f",
   "metadata": {},
   "source": [
    "<span style=color:green>Q9. Generate a Student's t-distribution plot using Python's matplotlib library, with the degrees of freedom\n",
    "parameter set to 10.</span>"
   ]
  },
  {
   "cell_type": "markdown",
   "id": "98a65242-7e42-4699-97c1-780976274903",
   "metadata": {},
   "source": [
    "Ans-"
   ]
  },
  {
   "cell_type": "markdown",
   "id": "593b0e74-6533-4021-ac5c-5884887f0057",
   "metadata": {},
   "source": [
    "import numpy as np\n",
    "import matplotlib.pyplot as plt\n",
    "from scipy.stats import t\n",
    "\n",
    "# Set the degrees of freedom\n",
    "degrees_of_freedom = 10\n",
    "\n",
    "# Generate x values\n",
    "x = np.linspace(-3, 3, 1000)\n",
    "\n",
    "# Calculate the probability density function (PDF) for the t-distribution\n",
    "pdf_values = t.pdf(x, df=degrees_of_freedom)\n",
    "\n",
    "# Plot the t-distribution\n",
    "plt.plot(x, pdf_values, label=f't-distribution (df={degrees_of_freedom})')\n",
    "plt.title(\"Student's t-distribution\")\n",
    "plt.xlabel('x')\n",
    "plt.ylabel('Probability Density Function (PDF)')\n",
    "plt.legend()c\n",
    "plt.grid(True)\n",
    "plt.show()\n"
   ]
  },
  {
   "cell_type": "markdown",
   "id": "6e1106fb-7986-4fc0-b95b-c0cd4c08b7b6",
   "metadata": {},
   "source": [
    "<span style=color:green>Q10. Write a Python program to calculate the two-sample t-test for independent samples, given two\n",
    "random samples of equal size and a null hypothesis that the population means are equal.</span>"
   ]
  },
  {
   "cell_type": "markdown",
   "id": "4255a03a-4f9c-4294-90ad-de08a814aeb0",
   "metadata": {},
   "source": [
    "Ans-"
   ]
  },
  {
   "cell_type": "code",
   "execution_count": 2,
   "id": "35e466a4-56a8-445d-830d-82544f769985",
   "metadata": {},
   "outputs": [
    {
     "name": "stdout",
     "output_type": "stream",
     "text": [
      "Two-Sample T-Test Results:\n",
      "T-Statistic: -2.262376877963864\n",
      "P-Value: 0.024759988927294578\n",
      "Reject the null hypothesis (population means are not equal).\n"
     ]
    }
   ],
   "source": [
    "import numpy as np\n",
    "from scipy.stats import ttest_ind\n",
    "\n",
    "def two_sample_t_test(sample1, sample2):\n",
    "    \"\"\"\n",
    "    Perform a two-sample t-test for independent samples.\n",
    "\n",
    "    Parameters:\n",
    "    - sample1 (array-like): First sample data.\n",
    "    - sample2 (array-like): Second sample data.\n",
    "\n",
    "    Returns:\n",
    "    - float: t-statistic\n",
    "    - float: p-value\n",
    "    \"\"\"\n",
    "    # Perform the two-sample t-test\n",
    "    t_statistic, p_value = ttest_ind(sample1, sample2)\n",
    "\n",
    "    return t_statistic, p_value\n",
    "\n",
    "# Example usage:\n",
    "# Replace these with your actual sample data\n",
    "sample_size = 100\n",
    "sample1 = np.random.normal(loc=5, scale=2, size=sample_size)\n",
    "sample2 = np.random.normal(loc=6, scale=2, size=sample_size)\n",
    "\n",
    "# Perform the two-sample t-test\n",
    "t_statistic, p_value = two_sample_t_test(sample1, sample2)\n",
    "\n",
    "# Display the results\n",
    "print(\"Two-Sample T-Test Results:\")\n",
    "print(f\"T-Statistic: {t_statistic}\")\n",
    "print(f\"P-Value: {p_value}\")\n",
    "\n",
    "# Check the significance level (e.g., α = 0.05)\n",
    "alpha = 0.05\n",
    "if p_value < alpha:\n",
    "    print(\"Reject the null hypothesis (population means are not equal).\")\n",
    "else:\n",
    "    print(\"Fail to reject the null hypothesis (no significant evidence that population means are different).\")\n"
   ]
  },
  {
   "cell_type": "markdown",
   "id": "86440fec-ab49-4dae-9917-9fc6efadcaa9",
   "metadata": {},
   "source": [
    "<span style=color:green>Q11: What is Student’s t distribution? When to use the t-Distribution.</span>"
   ]
  },
  {
   "cell_type": "markdown",
   "id": "5392a4fb-da34-4643-8778-ba1d5042509c",
   "metadata": {},
   "source": [
    "Ans-"
   ]
  },
  {
   "cell_type": "markdown",
   "id": "03364838-a79f-4945-8a57-6480e71f6066",
   "metadata": {},
   "source": [
    "### Student’s t-Distribution\n",
    "\n",
    "**Definition:**\n",
    "Student’s t-distribution (or simply t-distribution) is a probability distribution that arises in the context of estimating the mean of a normally distributed population when the sample size is small, and the population standard deviation is unknown. It is named after William Sealy Gosset, who published under the pseudonym \"Student.\" The t-distribution is similar in shape to the normal distribution but has heavier tails.\n",
    "\n",
    "**Characteristics:**\n",
    "- Bell-shaped and symmetric like the normal distribution.\n",
    "- Controlled by a parameter called degrees of freedom (df).\n",
    "- As the degrees of freedom increase, the t-distribution approaches the standard normal distribution.\n",
    "\n",
    "**Probability Density Function (PDF):**\n",
    "The probability density function for the t-distribution with df degrees of freedom is given by:\n",
    "\\[ f(t; df) = \\frac{\\Gamma\\left(\\frac{df+1}{2}\\right)}{\\sqrt{\\pi df}\\Gamma\\left(\\frac{df}{2}\\right)} \\left(1 + \\frac{t^2}{df}\\right)^{-\\frac{df+1}{2}} \\]\n",
    "where \\(\\Gamma\\) is the gamma function.\n",
    "\n",
    "### When to Use the t-Distribution\n",
    "\n",
    "1. **Small Sample Size:**\n",
    "   - The t-distribution is particularly useful when dealing with small sample sizes (typically when the sample size is less than 30) and the population standard deviation is unknown.\n",
    "\n",
    "2. **Population Standard Deviation Unknown:**\n",
    "   - When the population standard deviation is unknown and must be estimated from the sample data, the t-distribution is used for more accurate inference.\n",
    "\n",
    "3. **Estimating Confidence Intervals:**\n",
    "   - In situations where you need to construct a confidence interval for the population mean based on a sample mean, especially with a small sample size and unknown population standard deviation.\n",
    "\n",
    "4. **Hypothesis Testing:**\n",
    "   - For hypothesis testing involving the mean of a sample when the population standard deviation is unknown and the sample size is small.\n",
    "\n",
    "### Comparison with Normal Distribution:\n",
    "\n",
    "- The t-distribution becomes very close to the standard normal distribution as the degrees of freedom increase.\n",
    "- For larger sample sizes (typically above 30), the normal distribution is often used instead of the t-distribution.\n",
    "\n",
    "In summary, the t-distribution is a valuable tool in statistics, especially when dealing with small sample sizes and unknown population standard deviations. It provides a more realistic model for the variability of sample means in such scenarios.\n"
   ]
  },
  {
   "cell_type": "markdown",
   "id": "1afdf56c-3884-4f39-a111-7752378f46f3",
   "metadata": {},
   "source": [
    "<span style=color:green>Q12: What is t-statistic? State the formula for t-statistic.</span>"
   ]
  },
  {
   "cell_type": "markdown",
   "id": "3f9eb6fb-63cc-41f8-a6d8-9d2401a1a60b",
   "metadata": {},
   "source": [
    "Ans-"
   ]
  },
  {
   "cell_type": "markdown",
   "id": "6e1f3e2f-2e3e-4d1a-bc5d-14bf1f6a54ed",
   "metadata": {},
   "source": [
    "### T-Statistic\n",
    "\n",
    "The t-statistic is a measure used in hypothesis testing to assess whether the means of two groups are significantly different from each other or whether the mean of a single group is significantly different from a known value (e.g., a population mean). It is based on the Student's t-distribution and is commonly used when dealing with small sample sizes and situations where the population standard deviation is unknown.\n",
    "\n",
    "### Formula for T-Statistic (Two-Sample T-Test):\n",
    "\n",
    "For a two-sample t-test comparing the means of two independent samples (assuming equal variances), the formula for the t-statistic is given by:\n",
    "\n",
    "\\[ t = \\frac{\\bar{X}_1 - \\bar{X}_2}{\\sqrt{s^2 \\left(\\frac{1}{n_1} + \\frac{1}{n_2}\\right)}} \\]\n",
    "\n",
    "Where:\n",
    "- \\(\\bar{X}_1\\) and \\(\\bar{X}_2\\) are the sample means of the two groups.\n",
    "- \\(s^2\\) is the pooled sample variance.\n",
    "- \\(n_1\\) and \\(n_2\\) are the sample sizes of the two groups.\n",
    "\n",
    "### Formula for T-Statistic (One-Sample T-Test):\n",
    "\n",
    "For a one-sample t-test comparing the mean of a single sample to a known value (e.g., a population mean), the formula for the t-statistic is given by:\n",
    "\n",
    "\\[ t = \\frac{\\bar{X} - \\mu}{\\frac{s}{\\sqrt{n}}} \\]\n",
    "\n",
    "Where:\n",
    "- \\(\\bar{X}\\) is the sample mean.\n",
    "- \\(\\mu\\) is the population mean under the null hypothesis.\n",
    "- \\(s\\) is the sample standard deviation.\n",
    "- \\(n\\) is the sample size.\n",
    "\n",
    "### Interpretation:\n",
    "\n",
    "- If the absolute value of the t-statistic is large, it suggests that the difference between the sample mean and the hypothesized population mean is significant.\n",
    "- The t-statistic is compared to a critical value or used to calculate a p-value, which helps determine whether to reject the null hypothesis in favor of the alternative hypothesis.\n",
    "\n",
    "In summary, the t-statistic quantifies how far a sample mean is from the population mean (or from another sample mean) in terms of standard errors. It plays a crucial role in hypothesis testing, providing a standardized measure of the difference between sample and population means.\n"
   ]
  },
  {
   "cell_type": "markdown",
   "id": "761c743c-3be3-49dc-948a-9a01f38a2140",
   "metadata": {},
   "source": [
    "<span style=color:green>Q13. A coffee shop owner wants to estimate the average daily revenue for their shop. They take a random\n",
    "sample of 50 days and find the sample mean revenue to be $500 with a standard deviation of $50.\n",
    "Estimate the population mean revenue with a 95% confidence interval.</span>"
   ]
  },
  {
   "cell_type": "markdown",
   "id": "654a8046-6d02-4d7d-b283-4538d50ef7ff",
   "metadata": {},
   "source": [
    "Ans-"
   ]
  },
  {
   "cell_type": "code",
   "execution_count": 3,
   "id": "59ad52bb-eb91-4f30-ae26-aedb4ca0d1f5",
   "metadata": {},
   "outputs": [
    {
     "name": "stdout",
     "output_type": "stream",
     "text": [
      "95% Confidence Interval for Population Mean Revenue: $486.14 to $513.86\n"
     ]
    }
   ],
   "source": [
    "import numpy as np\n",
    "\n",
    "# Given data\n",
    "sample_mean = 500  # in dollars\n",
    "sample_std_dev = 50  # in dollars\n",
    "sample_size = 50\n",
    "\n",
    "# Z-score for a 95% confidence interval\n",
    "z_score = 1.96\n",
    "\n",
    "# Calculate the margin of error\n",
    "margin_of_error = z_score * (sample_std_dev / np.sqrt(sample_size))\n",
    "\n",
    "# Calculate the confidence interval\n",
    "confidence_interval_lower = sample_mean - margin_of_error\n",
    "confidence_interval_upper = sample_mean + margin_of_error\n",
    "\n",
    "# Display the results\n",
    "print(f\"95% Confidence Interval for Population Mean Revenue: ${confidence_interval_lower:.2f} to ${confidence_interval_upper:.2f}\")\n"
   ]
  },
  {
   "cell_type": "markdown",
   "id": "ba69a807-0e28-4db0-8b6e-ee1535c81e5d",
   "metadata": {},
   "source": [
    "<span style=color:green>Q14. A researcher hypothesizes that a new drug will decrease blood pressure by 10 mmHg. They conduct a\n",
    "clinical trial with 100 patients and find that the sample mean decrease in blood pressure is 8 mmHg with a\n",
    "standard deviation of 3 mmHg. Test the hypothesis with a significance level of 0.05.</span>"
   ]
  },
  {
   "cell_type": "markdown",
   "id": "c7ef540b-eccd-4875-8dec-5a4e1e15e1b4",
   "metadata": {},
   "source": [
    "Ans-"
   ]
  },
  {
   "cell_type": "code",
   "execution_count": 4,
   "id": "1bc5d45d-4aa2-4c03-aa11-f72540e81f0e",
   "metadata": {},
   "outputs": [
    {
     "name": "stdout",
     "output_type": "stream",
     "text": [
      "T-Statistic: -6.6667\n",
      "Critical Value: ±1.9842\n",
      "P-Value: 0.0000\n",
      "Reject the null hypothesis. There is significant evidence that the drug decreases blood pressure.\n"
     ]
    }
   ],
   "source": [
    "import numpy as np\n",
    "from scipy.stats import t\n",
    "\n",
    "# Given data\n",
    "sample_mean = 8  # in mmHg\n",
    "hypothesized_mean = 10  # hypothesized population mean under the null hypothesis\n",
    "sample_std_dev = 3  # in mmHg\n",
    "sample_size = 100\n",
    "\n",
    "# Calculate the t-statistic\n",
    "t_statistic = (sample_mean - hypothesized_mean) / (sample_std_dev / np.sqrt(sample_size))\n",
    "\n",
    "# Degrees of freedom for a one-sample t-test\n",
    "degrees_of_freedom = sample_size - 1\n",
    "\n",
    "# Calculate the critical value for a two-tailed test at a 0.05 significance level\n",
    "alpha = 0.05\n",
    "critical_value = t.ppf(1 - alpha / 2, degrees_of_freedom)\n",
    "\n",
    "# Perform the hypothesis test\n",
    "p_value = 2 * (1 - t.cdf(np.abs(t_statistic), degrees_of_freedom))\n",
    "\n",
    "# Display the results\n",
    "print(f\"T-Statistic: {t_statistic:.4f}\")\n",
    "print(f\"Critical Value: ±{critical_value:.4f}\")\n",
    "print(f\"P-Value: {p_value:.4f}\")\n",
    "\n",
    "# Check the hypothesis based on the p-value\n",
    "if p_value < alpha:\n",
    "    print(\"Reject the null hypothesis. There is significant evidence that the drug decreases blood pressure.\")\n",
    "else:\n",
    "    print(\"Fail to reject the null hypothesis. There is insufficient evidence that the drug decreases blood pressure.\")\n"
   ]
  },
  {
   "cell_type": "markdown",
   "id": "3c18c784-5082-4419-9332-fd8b4ba9c9ca",
   "metadata": {},
   "source": [
    "<span style=color:green>Q15. An electronics company produces a certain type of product with a mean weight of 5 pounds and a\n",
    "standard deviation of 0.5 pounds. A random sample of 25 products is taken, and the sample mean weight\n",
    "is found to be 4.8 pounds. Test the hypothesis that the true mean weight of the products is less than 5\n",
    "pounds with a significance level of 0.01.</span>"
   ]
  },
  {
   "cell_type": "markdown",
   "id": "b5ce0e24-196b-4851-bf7f-2be8450ea732",
   "metadata": {},
   "source": [
    "Ans-"
   ]
  },
  {
   "cell_type": "code",
   "execution_count": 5,
   "id": "196daeac-1b1b-4743-a03a-4a0e02adffca",
   "metadata": {},
   "outputs": [
    {
     "name": "stdout",
     "output_type": "stream",
     "text": [
      "T-Statistic: -2.0000\n",
      "Critical Value: -2.4922\n",
      "P-Value: 0.0285\n",
      "Fail to reject the null hypothesis. There is insufficient evidence that the mean weight is less than 5 pounds.\n"
     ]
    }
   ],
   "source": [
    "import numpy as np\n",
    "from scipy.stats import t\n",
    "\n",
    "# Given data\n",
    "hypothesized_mean = 5  # hypothesized population mean under the null hypothesis\n",
    "sample_mean = 4.8  # in pounds\n",
    "sample_std_dev = 0.5  # in pounds\n",
    "sample_size = 25\n",
    "\n",
    "# Calculate the t-statistic\n",
    "t_statistic = (sample_mean - hypothesized_mean) / (sample_std_dev / np.sqrt(sample_size))\n",
    "\n",
    "# Degrees of freedom for a one-sample t-test\n",
    "degrees_of_freedom = sample_size - 1\n",
    "\n",
    "# Calculate the critical value for a one-tailed test at a 0.01 significance level\n",
    "alpha = 0.01\n",
    "critical_value = t.ppf(alpha, degrees_of_freedom)\n",
    "\n",
    "# Perform the hypothesis test\n",
    "p_value = t.cdf(t_statistic, degrees_of_freedom)\n",
    "\n",
    "# Display the results\n",
    "print(f\"T-Statistic: {t_statistic:.4f}\")\n",
    "print(f\"Critical Value: {critical_value:.4f}\")\n",
    "print(f\"P-Value: {p_value:.4f}\")\n",
    "\n",
    "# Check the hypothesis based on the p-value\n",
    "if p_value < alpha:\n",
    "    print(\"Reject the null hypothesis. There is significant evidence that the mean weight is less than 5 pounds.\")\n",
    "else:\n",
    "    print(\"Fail to reject the null hypothesis. There is insufficient evidence that the mean weight is less than 5 pounds.\")\n"
   ]
  },
  {
   "cell_type": "markdown",
   "id": "0bd72bd9-a076-45a3-ab3b-8e03afd87b41",
   "metadata": {},
   "source": [
    "<span style=color:green>Q16. Two groups of students are given different study materials to prepare for a test. The first group (n1 =\n",
    "30) has a mean score of 80 with a standard deviation of 10, and the second group (n2 = 40) has a mean\n",
    "score of 75 with a standard deviation of 8. Test the hypothesis that the population means for the two\n",
    "groups are equal with a significance level of 0.01.</span>"
   ]
  },
  {
   "cell_type": "markdown",
   "id": "b2c3cd3b-efb0-4b7e-a2fa-efce541e35c9",
   "metadata": {},
   "source": [
    "Ans-"
   ]
  },
  {
   "cell_type": "code",
   "execution_count": 8,
   "id": "ef1d49ad-c950-483d-bfef-cb71369c30dc",
   "metadata": {},
   "outputs": [
    {
     "name": "stdout",
     "output_type": "stream",
     "text": [
      "T-Statistic: 2.2511\n",
      "Degrees of Freedom: 54\n",
      "Critical Value: ±2.6696\n",
      "P-Value: 0.0285\n",
      "Fail to reject the null hypothesis. There is insufficient evidence that the population means are not equal.\n"
     ]
    }
   ],
   "source": [
    "import numpy as np\n",
    "from scipy.stats import t\n",
    "\n",
    "# Given data for Group 1\n",
    "mean1 = 80\n",
    "std_dev1 = 10\n",
    "sample_size1 = 30\n",
    "\n",
    "# Given data for Group 2\n",
    "mean2 = 75\n",
    "std_dev2 = 8\n",
    "sample_size2 = 40\n",
    "\n",
    "# Calculate the two-sample t-test statistic\n",
    "t_statistic = (mean1 - mean2) / np.sqrt((std_dev1**2 / sample_size1) + (std_dev2**2 / sample_size2))\n",
    "\n",
    "# Calculate degrees of freedom\n",
    "df = ((std_dev1**2 / sample_size1) + (std_dev2**2 / sample_size2))**2 / \\\n",
    "     (((std_dev1**2 / sample_size1)**2 / (sample_size1 - 1)) + ((std_dev2**2 / sample_size2)**2 / (sample_size2 - 1)))\n",
    "\n",
    "# Calculate the critical value for a two-tailed test at a 0.01 significance level\n",
    "alpha = 0.01\n",
    "critical_value = t.ppf(1 - alpha / 2, df)\n",
    "\n",
    "# Perform the hypothesis test\n",
    "p_value = 2 * (1 - t.cdf(np.abs(t_statistic), df))\n",
    "\n",
    "# Display the results\n",
    "print(f\"T-Statistic: {t_statistic:.4f}\")\n",
    "print(f\"Degrees of Freedom: {df:.0f}\")\n",
    "print(f\"Critical Value: ±{critical_value:.4f}\")\n",
    "print(f\"P-Value: {p_value:.4f}\")\n",
    "\n",
    "# Check the hypothesis based on the p-value\n",
    "if p_value < alpha:\n",
    "    print(\"Reject the null hypothesis. There is significant evidence that the population means are not equal.\")\n",
    "else:\n",
    "    print(\"Fail to reject the null hypothesis. There is insufficient evidence that the population means are not equal.\")\n"
   ]
  },
  {
   "cell_type": "code",
   "execution_count": null,
   "id": "32419dad-e4c3-47df-8967-a6f369a07013",
   "metadata": {},
   "outputs": [],
   "source": []
  }
 ],
 "metadata": {
  "kernelspec": {
   "display_name": "Python 3 (ipykernel)",
   "language": "python",
   "name": "python3"
  },
  "language_info": {
   "codemirror_mode": {
    "name": "ipython",
    "version": 3
   },
   "file_extension": ".py",
   "mimetype": "text/x-python",
   "name": "python",
   "nbconvert_exporter": "python",
   "pygments_lexer": "ipython3",
   "version": "3.10.8"
  }
 },
 "nbformat": 4,
 "nbformat_minor": 5
}
